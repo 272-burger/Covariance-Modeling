{
  "cells": [
    {
      "cell_type": "code",
      "execution_count": 1,
      "metadata": {
        "id": "uaJNqe82y_PD"
      },
      "outputs": [],
      "source": [
        "import numpy as np\n",
        "import scipy\n",
        "from scipy.optimize import minimize, LinearConstraint, Bounds\n",
        "from scipy.linalg import lu, det\n",
        "import matplotlib.pyplot as plt"
      ]
    },
    {
      "attachments": {},
      "cell_type": "markdown",
      "metadata": {
        "id": "phIG_CYozJQw"
      },
      "source": [
        "# 1. Generate $Y$\n",
        "\n",
        "$\\vec{Y} = \\Sigma^{1/2} \\vec{v} $\n",
        "\n",
        "where $ v_i \\sim N(0, 1) $"
      ]
    },
    {
      "cell_type": "code",
      "execution_count": 2,
      "metadata": {
        "id": "tDT6vFdCy_PE"
      },
      "outputs": [],
      "source": [
        "# set parameters\n",
        "p = 1000 # dimension\n",
        "paramTrue = [1,.1] # True theta1, theta2"
      ]
    },
    {
      "cell_type": "code",
      "execution_count": 3,
      "metadata": {
        "id": "hf4DVD1Iy_PF"
      },
      "outputs": [],
      "source": [
        "# function that makes covariance matrix\n",
        "def Sigma(param, p):\n",
        "    I = np.eye(p) #dtype=np.float32)\n",
        "    O = np.ones([p,p]) #dtype=np.float32)\n",
        "    return I*param[0]+(O-I)*param[1]"
      ]
    },
    {
      "cell_type": "code",
      "execution_count": 4,
      "metadata": {
        "colab": {
          "base_uri": "https://localhost:8080/"
        },
        "id": "gK9ZOtK5y_PF",
        "outputId": "bf152f18-60da-4358-fd2f-dd83625daaab"
      },
      "outputs": [
        {
          "data": {
            "text/plain": [
              "True"
            ]
          },
          "execution_count": 4,
          "metadata": {},
          "output_type": "execute_result"
        }
      ],
      "source": [
        "# check if SigmaTrue is positive semidefinite\n",
        "SigmaTrue = Sigma(paramTrue, p)\n",
        "np.linalg.eig(SigmaTrue)[0].all() >= 0"
      ]
    },
    {
      "cell_type": "code",
      "execution_count": 5,
      "metadata": {
        "id": "vi9K6Oj_y_PF"
      },
      "outputs": [],
      "source": [
        "# cholesky decomposition\n",
        "SigmaHalf = np.linalg.cholesky(SigmaTrue)"
      ]
    },
    {
      "cell_type": "code",
      "execution_count": 6,
      "metadata": {
        "colab": {
          "base_uri": "https://localhost:8080/"
        },
        "id": "7qNjbuXJy_PG",
        "outputId": "81f718a6-b7f4-4821-d1a8-159fe32950be"
      },
      "outputs": [
        {
          "data": {
            "text/plain": [
              "(1000, 1)"
            ]
          },
          "execution_count": 6,
          "metadata": {},
          "output_type": "execute_result"
        }
      ],
      "source": [
        "# generate random vector Y = SigmaHalf * v\n",
        "v = np.random.normal(0, 1, p).reshape(p, 1)\n",
        "Y = np.dot(SigmaHalf, v)\n",
        "Y.shape # dimension of Y"
      ]
    },
    {
      "cell_type": "code",
      "execution_count": 7,
      "metadata": {
        "colab": {
          "base_uri": "https://localhost:8080/"
        },
        "id": "l5xcX-Q-zJQx",
        "outputId": "abb8be32-5371-4af0-8872-601d7d3de6ea"
      },
      "outputs": [
        {
          "data": {
            "text/plain": [
              "0.8745927060543842"
            ]
          },
          "execution_count": 7,
          "metadata": {},
          "output_type": "execute_result"
        }
      ],
      "source": [
        "np.var(Y)"
      ]
    },
    {
      "cell_type": "code",
      "execution_count": 8,
      "metadata": {
        "colab": {
          "base_uri": "https://localhost:8080/",
          "height": 430
        },
        "id": "9kPnlo7AzJQy",
        "outputId": "16e2e4ed-0dd4-431d-a811-c6ec093786c9"
      },
      "outputs": [
        {
          "data": {
            "image/png": "[encoded data removed]",
            "text/plain": [
              "<Figure size 640x480 with 1 Axes>"
            ]
          },
          "metadata": {},
          "output_type": "display_data"
        }
      ],
      "source": [
        "plt.scatter(v, Y, c='blue', alpha=0.2)\n",
        "plt.ylabel('Generated Y')\n",
        "plt.show()"
      ]
    },
    {
      "attachments": {},
      "cell_type": "markdown",
      "metadata": {
        "id": "oFogx0NFzJQy"
      },
      "source": [
        "# 2. MLE for parameters of covariance model\n",
        "## 2-1. Log likelihood function\n",
        "\n",
        "$ -logL(\\vec{0}, \\Sigma(\\theta); \\vec{Y}) = \\frac{1}{2} ln(|\\Sigma(\\theta)|) + \\frac{1}{2}\\vec{Y}^T\\Sigma(\\theta)^{-1}\\vec{Y} $"
      ]
    },
    {
      "cell_type": "code",
      "execution_count": 9,
      "metadata": {
        "id": "OoWqu-5mzJQy"
      },
      "outputs": [],
      "source": [
        "# check if matrix is psd\n",
        "def check_pd(Sigma):\n",
        "  try:\n",
        "    pd = np.linalg.eig(Sigma)[0].min() \n",
        "    if pd > 0:\n",
        "      return True\n",
        "  except np.linalg.LinAlgError:\n",
        "    return False"
      ]
    },
    {
      "cell_type": "code",
      "execution_count": 10,
      "metadata": {
        "id": "WS50cZqKzJQy"
      },
      "outputs": [],
      "source": [
        "# check invertible\n",
        "def check_invertible(matrix):\n",
        "    try:\n",
        "        inverse = np.linalg.inv(matrix)\n",
        "        return True\n",
        "    except np.linalg.LinAlgError:\n",
        "        return False"
      ]
    },
    {
      "cell_type": "code",
      "execution_count": 11,
      "metadata": {
        "id": "pA5pMVkvy_PG"
      },
      "outputs": [],
      "source": [
        "# define log likelihood function\n",
        "def logLikelihood(param, Y):\n",
        "    \n",
        "    p = len(Y)\n",
        "    sig = Sigma(param,p)\n",
        "    chol = check_pd(sig)\n",
        "    inv = check_invertible(sig)\n",
        "    \n",
        "    if chol: \n",
        "      # choleskey factorization\n",
        "      log_det_Sigma = 2*np.sum(np.log(np.diag(np.linalg.cholesky(sig))))\n",
        "    else: \n",
        "       # LU factorization\n",
        "       P, L, U = lu(sig)\n",
        "       sign_P = np.linalg.det(P)\n",
        "       log_det_Sigma = np.log(np.abs((-1) ** sign_P * np.prod(np.diag(U))))\n",
        "       \n",
        "    \n",
        "    if inv:\n",
        "      inv_Sigma = np.linalg.inv(sig)\n",
        "    else:\n",
        "      inv_Sigma = np.linalg.pinv(sig) # pseudo inverse\n",
        "\n",
        "    return 0.5 * Y.T @ inv_Sigma @ Y + 0.5 * log_det_Sigma\n"
      ]
    },
    {
      "attachments": {},
      "cell_type": "markdown",
      "metadata": {
        "id": "X-gvgLj0zJQy"
      },
      "source": [
        "## 2-2. MLE"
      ]
    },
    {
      "cell_type": "code",
      "execution_count": 12,
      "metadata": {
        "id": "q9t6jNEvy_PH"
      },
      "outputs": [],
      "source": [
        "# set the seed\n",
        "param0 = paramTrue + np.random.normal(0, 1, 1)\n",
        "\n",
        "# define the optimization problem\n",
        "problem = {\n",
        "    'fun': logLikelihood,         # objective function: \n",
        "    'x0': param0,            # Initial guess for the parameters\n",
        "    'args': (Y,),             # Additional arguments for the objective function      \n",
        "}\n",
        "\n",
        "result = minimize(**problem)\n",
        "estimated_params = result.x"
      ]
    },
    {
      "cell_type": "code",
      "execution_count": 14,
      "metadata": {
        "colab": {
          "base_uri": "https://localhost:8080/"
        },
        "id": "TuQakcY2y_PI",
        "outputId": "1c25a118-b77f-4e67-d15a-f9c30d5bbbfb"
      },
      "outputs": [
        {
          "name": "stdout",
          "output_type": "stream",
          "text": [
            "True paramter:  [1, 0.1]\n",
            "Esimated parameter:  [1.29004206 0.39827116]\n"
          ]
        }
      ],
      "source": [
        "print('True paramter: ', paramTrue)\n",
        "print('Esimated parameter: ', estimated_params)"
      ]
    }
  ],
  "metadata": {
    "colab": {
      "provenance": []
    },
    "kernelspec": {
      "display_name": "SARvenv",
      "language": "python",
      "name": "python3"
    },
    "language_info": {
      "codemirror_mode": {
        "name": "ipython",
        "version": 3
      },
      "file_extension": ".py",
      "mimetype": "text/x-python",
      "name": "python",
      "nbconvert_exporter": "python",
      "pygments_lexer": "ipython3",
      "version": "3.11.3"
    },
    "orig_nbformat": 4
  },
  "nbformat": 4,
  "nbformat_minor": 0
}
