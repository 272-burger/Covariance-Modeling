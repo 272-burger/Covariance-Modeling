{
  "cells": [
    {
      "cell_type": "code",
      "execution_count": 1,
      "metadata": {
        "id": "NzD6GAC0Cz2v"
      },
      "outputs": [],
      "source": [
        "import numpy as np\n",
        "import pandas as pd\n",
        "import matplotlib.pyplot as plt\n",
        "from scipy.spatial.distance import cdist # calculate distance matrix\n",
        "from scipy.linalg import lu # calculate LU decomposition\n",
        "from scipy.optimize import minimize # minimization of scalar function"
      ]
    },
    {
      "cell_type": "markdown",
      "metadata": {
        "id": "H1nY_u33MC9A"
      },
      "source": [
        "# 1. Generate location data $X$"
      ]
    },
    {
      "cell_type": "code",
      "execution_count": 2,
      "metadata": {
        "id": "OOC8a8aLDSgT"
      },
      "outputs": [],
      "source": [
        "# function that makes coordincates of data points\n",
        "def make_coords(N_points, xmu, xsd, ymu, ysd):  \n",
        "    x_coords = np.random.normal(xmu, xsd, size=N_points)\n",
        "    y_coords = np.random.normal(ymu, ysd, size=N_points)\n",
        "    coords = np.column_stack((x_coords, y_coords))\n",
        "    return coords"
      ]
    },
    {
      "cell_type": "code",
      "execution_count": 3,
      "metadata": {
        "id": "D_huMDovMC9C"
      },
      "outputs": [],
      "source": [
        "# function that calculates distances between coordinates\n",
        "def distances(coords):\n",
        "  distances = cdist(coords, coords, metric='Euclidean')\n",
        "  return distances"
      ]
    },
    {
      "cell_type": "code",
      "execution_count": 4,
      "metadata": {
        "id": "ZbcxVJRgMC9C"
      },
      "outputs": [],
      "source": [
        "np.random.seed(24)"
      ]
    },
    {
      "cell_type": "code",
      "execution_count": 5,
      "metadata": {
        "id": "HKnrHLVuMC9C"
      },
      "outputs": [],
      "source": [
        "# set parameters\n",
        "p = 1000 # dimensionaltiy\n",
        "paramTrue = [1, 0.5] # parameters "
      ]
    },
    {
      "cell_type": "code",
      "execution_count": 6,
      "metadata": {
        "id": "xEUzl4skMC9D"
      },
      "outputs": [],
      "source": [
        "# get coordinates\n",
        "coord = [0, 1, 0, 1] # xmu, xsd, ymu, ysd\n",
        "X = make_coords(p, *coord)"
      ]
    },
    {
      "cell_type": "code",
      "execution_count": 7,
      "metadata": {
        "id": "G1yh_hmaMC9D"
      },
      "outputs": [],
      "source": [
        "# get distance matrix \n",
        "d = distances(X)"
      ]
    },
    {
      "cell_type": "markdown",
      "metadata": {
        "id": "pN1ftr6tMC9D"
      },
      "source": [
        "# 2. Generate $\\vec{Y}$\n",
        "## 2-1. Covariance Matrix $\\Sigma$\n",
        "$ \\Sigma = Cov(Y_i, Y_j|X) = \\theta_1 \\exp(-\\frac{1}{\\theta_2} d_{ij}) \\\\ d_{ij} = ||X_i - X_j||$"
      ]
    },
    {
      "cell_type": "code",
      "execution_count": 8,
      "metadata": {
        "id": "TZSKpvH4E6OM"
      },
      "outputs": [],
      "source": [
        "def Sigma(param, dis):\n",
        "  theta1, theta2 = param[0], param[1]\n",
        "  cov = theta1*np.exp((-1/theta2)*dis) # distance matrix is a square matrix\n",
        "  return cov"
      ]
    },
    {
      "cell_type": "code",
      "execution_count": 9,
      "metadata": {
        "id": "V1BGpB2-DWof"
      },
      "outputs": [],
      "source": [
        "# get SigmaTrue\n",
        "SigmaTrue = Sigma(paramTrue, d)"
      ]
    },
    {
      "cell_type": "markdown",
      "metadata": {
        "id": "Ak0skDNxMC9E"
      },
      "source": [
        "## 2-2. Generate $\\vec{Y}$\n",
        "$ \\vec{Y} = \\Sigma^{1/2} \\cdot \\vec{v} $\n",
        "\n",
        "where $ {v}_i \\sim N(0,1) $"
      ]
    },
    {
      "cell_type": "code",
      "execution_count": 10,
      "metadata": {
        "id": "giapT05ID-Xz",
        "colab": {
          "base_uri": "https://localhost:8080/"
        },
        "outputId": "e7d9623c-307f-4974-d4d9-160f6fabcc6f"
      },
      "outputs": [
        {
          "output_type": "execute_result",
          "data": {
            "text/plain": [
              "(1000, 1)"
            ]
          },
          "metadata": {},
          "execution_count": 10
        }
      ],
      "source": [
        "SigmaHalf = np.linalg.cholesky(SigmaTrue)\n",
        "U = np.random.normal(0, 1, p).reshape(p, 1)\n",
        "Y = np.dot(SigmaHalf, U)\n",
        "Y.shape # dimensionality of Y\n"
      ]
    },
    {
      "cell_type": "markdown",
      "metadata": {
        "id": "Wm48gXLnMC9F"
      },
      "source": [
        "# 3. MLE\n",
        "\n",
        "$ -logL(\\vec{\\theta};\\vec{Y}) = \\frac{1}{2} \\log ( |\\Sigma(\\theta)|) + \\frac{1}{2} \\vec{Y}^T (\\Sigma(\\theta))^{-1} \\vec{Y} $\n",
        "\n",
        "* Constraints regarding $ \\Sigma(\\theta) $\n",
        "    1. When calculating the determinant of $\\Sigma(\\theta)$, we need to consider the following constraints\n",
        "    * Symmetric: As distance matrix is symmetric, $\\Sigma(\\theta)$ is also symmetric\n",
        "    * Positive Definite\n",
        "        * If it's pd, we can use choleskey factorization prior to the calculation of log determinant.\n",
        "        * If it's not pd, we can use LU factorization. \n",
        "        * (This helps preventing over/underflow when calculating determinant of large matrix)\n",
        "    2. When calculating the inverse of $\\Sigma(\\theta)$, we need to consider if it's invertible or not."
      ]
    },
    {
      "cell_type": "code",
      "execution_count": 11,
      "metadata": {
        "id": "Nz-UGCZtMC9F"
      },
      "outputs": [],
      "source": [
        "# check pd\n",
        "def check_pd(Sigma):\n",
        "    if np.linalg.eig(Sigma)[0].min() > 0:\n",
        "        return True\n",
        "    else:\n",
        "        return False"
      ]
    },
    {
      "cell_type": "code",
      "execution_count": 12,
      "metadata": {
        "id": "1DEco249MC9F"
      },
      "outputs": [],
      "source": [
        "# check invertible\n",
        "def check_invertible(matrix):\n",
        "    try:\n",
        "        inverse = np.linalg.inv(matrix)\n",
        "        return True\n",
        "    except np.linalg.LinAlgError:\n",
        "        return False"
      ]
    },
    {
      "cell_type": "markdown",
      "metadata": {
        "id": "7rBpprUQMC9F"
      },
      "source": [
        "## 3-1. Log Likelihood function"
      ]
    },
    {
      "cell_type": "code",
      "execution_count": 13,
      "metadata": {
        "id": "8NQq63kiMC9F"
      },
      "outputs": [],
      "source": [
        "# define log likelihood function\n",
        "def logLikelihood(param, Y):\n",
        "    \n",
        "    p = len(Y)\n",
        "    sig = Sigma(param, d)\n",
        "    chol = check_pd(sig)\n",
        "    inv = check_invertible(sig)\n",
        "    \n",
        "    if chol: # pd check\n",
        "        # choleskey factorization; positive definite and symmetric\n",
        "        log_det_Sigma = 2 * np.sum(np.log(np.diag(np.linalg.cholesky(sig))))\n",
        "    else: \n",
        "        # LU factorization; square\n",
        "        P, L, U = lu(sig)\n",
        "        du = np.diag(U)\n",
        "        c = np.linalg.det(P) * np.prod(np.sign(du))\n",
        "        log_det_Sigma = np.log(c) + np.sum(np.log(np.abs(du)))\n",
        "\n",
        "    \n",
        "    if inv:\n",
        "        inv_Sigma = np.linalg.inv(sig)\n",
        "    else:   \n",
        "        inv_Sigma = np.linalg.pinv(sig) # pseudo inverse\n",
        "    \n",
        "        \n",
        "    return 0.5 * Y.T @ inv_Sigma @ Y + 0.5 * log_det_Sigma"
      ]
    },
    {
      "cell_type": "markdown",
      "metadata": {
        "id": "BwEaWRPRMC9G"
      },
      "source": [
        "## 3-2. MLE\n",
        "* 8min for p=1,000 dimension"
      ]
    },
    {
      "cell_type": "code",
      "execution_count": 14,
      "metadata": {
        "id": "2ca8s8BSFqth"
      },
      "outputs": [],
      "source": [
        "# set the seed\n",
        "param0 = paramTrue + np.random.normal(0, 1, 1)\n",
        "\n",
        "# define the optimization problem\n",
        "problem = {\n",
        "    'fun': logLikelihood,         # objective function: \n",
        "    'x0': param0,            # Initial guess for the parameters\n",
        "    'args': (Y,),             # Additional arguments for the objective function      \n",
        "}\n",
        "\n",
        "result = minimize(**problem)\n",
        "estimated_params = result.x"
      ]
    },
    {
      "cell_type": "code",
      "execution_count": 15,
      "metadata": {
        "id": "pcfZLyUxGKlJ",
        "colab": {
          "base_uri": "https://localhost:8080/"
        },
        "outputId": "3c097fef-adfa-4503-d566-f3151ba20a60"
      },
      "outputs": [
        {
          "output_type": "stream",
          "name": "stdout",
          "text": [
            "True paramter:  [1, 0.5]\n",
            "Esimated parameter:  [1.02283479 0.5535643 ]\n"
          ]
        }
      ],
      "source": [
        "print('True paramter: ', paramTrue)\n",
        "print('Esimated parameter: ', estimated_params)"
      ]
    }
  ],
  "metadata": {
    "colab": {
      "provenance": []
    },
    "kernelspec": {
      "display_name": "Python 3",
      "name": "python3"
    },
    "language_info": {
      "codemirror_mode": {
        "name": "ipython",
        "version": 3
      },
      "file_extension": ".py",
      "mimetype": "text/x-python",
      "name": "python",
      "nbconvert_exporter": "python",
      "pygments_lexer": "ipython3",
      "version": "3.11.3"
    }
  },
  "nbformat": 4,
  "nbformat_minor": 0
}