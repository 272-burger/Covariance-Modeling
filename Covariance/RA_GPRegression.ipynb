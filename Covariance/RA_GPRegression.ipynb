{
  "cells": [
    {
      "cell_type": "code",
      "execution_count": 2,
      "metadata": {
        "id": "NzD6GAC0Cz2v"
      },
      "outputs": [],
      "source": [
        "import numpy as np\n",
        "import pandas as pd\n",
        "import matplotlib.pyplot as plt\n",
        "from scipy.spatial.distance import cdist # calculate distance matrix\n",
        "from scipy.linalg import lu # calculate LU decomposition\n",
        "from scipy.optimize import minimize # minimization of scalar function\n",
        "from itertools import combinations"
      ]
    },
    {
      "cell_type": "code",
      "source": [
        "import pickle"
      ],
      "metadata": {
        "id": "1eGT6FnVf8Fc"
      },
      "execution_count": 3,
      "outputs": []
    },
    {
      "cell_type": "code",
      "source": [
        "from google.colab import drive\n",
        "drive.mount('/content/drive')"
      ],
      "metadata": {
        "colab": {
          "base_uri": "https://localhost:8080/"
        },
        "id": "0o-LsYLrghmZ",
        "outputId": "ab8d609e-4bf2-4834-e41c-2ad3435cddd8"
      },
      "execution_count": 4,
      "outputs": [
        {
          "output_type": "stream",
          "name": "stdout",
          "text": [
            "Drive already mounted at /content/drive; to attempt to forcibly remount, call drive.mount(\"/content/drive\", force_remount=True).\n"
          ]
        }
      ]
    },
    {
      "cell_type": "code",
      "source": [
        "%cd /content/drive/MyDrive/RA-pf.Cao /Regression"
      ],
      "metadata": {
        "colab": {
          "base_uri": "https://localhost:8080/"
        },
        "id": "MOi-mWftqHvI",
        "outputId": "c7b9ddcf-9bbf-48ae-c64f-eb12540f5476"
      },
      "execution_count": 5,
      "outputs": [
        {
          "output_type": "stream",
          "name": "stdout",
          "text": [
            "/content/drive/MyDrive/Grads/RA-pf.Cao /Regression\n"
          ]
        }
      ]
    },
    {
      "cell_type": "code",
      "source": [
        "with open('./distance.pickle', 'rb') as file:\n",
        "    d_plot = pickle.load(file)\n",
        "\n",
        "with open('./calculated_covariance.pickle', 'rb') as file:\n",
        "    cov_plot = pickle.load(file)"
      ],
      "metadata": {
        "id": "cC_Jr10Nfkmj"
      },
      "execution_count": 6,
      "outputs": []
    },
    {
      "cell_type": "markdown",
      "metadata": {
        "id": "37eSI5FyVaX_"
      },
      "source": [
        "# 3. Regression\n",
        "* Regression methods tryout:\n",
        "    * OLS Regrssion\n",
        "    * Nonlinear Least Squares Regression\n",
        "    * Gaussian Process Regression (Kriging)\n",
        "    * Bayesian Inference\n",
        "    * Kernel Ridge Regression"
      ]
    },
    {
      "cell_type": "markdown",
      "metadata": {
        "id": "t3n_PtbFVaYA"
      },
      "source": [
        "## 3-3. Gaussian Process Regression (GPR)\n",
        "1. Define a covariance(kernel) function\n",
        "2. Calculate the covariance matrix\n",
        "3. Obtain the posterior distribution $P(\\theta|D)$ of the target based on the training data & covariance matrix"
      ]
    },
    {
      "cell_type": "code",
      "source": [
        "# !pip install gpytorch"
      ],
      "metadata": {
        "id": "bbugqPUUW0U7"
      },
      "execution_count": 7,
      "outputs": []
    },
    {
      "cell_type": "code",
      "source": [
        "import torch\n",
        "import gpytorch"
      ],
      "metadata": {
        "id": "i_PYCPlrWwJF"
      },
      "execution_count": 8,
      "outputs": []
    },
    {
      "cell_type": "code",
      "source": [
        "from sklearn.model_selection import train_test_split"
      ],
      "metadata": {
        "id": "xsHTZO2DiFUj"
      },
      "execution_count": 9,
      "outputs": []
    },
    {
      "cell_type": "code",
      "source": [
        "# set up training data\n",
        "X = torch.tensor(np.array(d_plot), dtype=torch.float32)\n",
        "y = torch.tensor(np.array(cov_plot), dtype=torch.float32)\n",
        "\n",
        "# randomly split the data into training and testing sets\n",
        "X_train, X_test, y_train, y_test = train_test_split(X, y, train_size=0.02, random_state=42)"
      ],
      "metadata": {
        "id": "36PlulgnW3ZN"
      },
      "execution_count": 10,
      "outputs": []
    },
    {
      "cell_type": "code",
      "source": [
        "print(\"Number of training data points:\", X_train.shape[0])"
      ],
      "metadata": {
        "colab": {
          "base_uri": "https://localhost:8080/"
        },
        "id": "5_lxKfCKo3yS",
        "outputId": "4f01b327-1d67-43f3-f2d2-2394bd0ccfff"
      },
      "execution_count": 11,
      "outputs": [
        {
          "output_type": "stream",
          "name": "stdout",
          "text": [
            "Number of training data points: 19980\n"
          ]
        }
      ]
    },
    {
      "cell_type": "code",
      "source": [
        "# use the simplest form of GP model, Exact inference\n",
        "class GPModel(gpytorch.models.ExactGP):\n",
        "    def __init__(self, X_train, y_train, likelihood):\n",
        "        super(GPModel, self).__init__(X_train, y_train, likelihood)\n",
        "        self.mean_module = gpytorch.means.ConstantMean()\n",
        "        self.covar_module = gpytorch.kernels.ScaleKernel(gpytorch.kernels.RBFKernel())\n",
        "\n",
        "    def forward(self, x):\n",
        "        mean_x = self.mean_module(x)\n",
        "        covar_x = self.covar_module(x)\n",
        "        return gpytorch.distributions.MultivariateNormal(mean_x, covar_x)\n",
        "\n",
        "# initialize likelihood and model\n",
        "likelihood = gpytorch.likelihoods.GaussianLikelihood()\n",
        "model = GPModel(X_train, y_train, likelihood)"
      ],
      "metadata": {
        "id": "5ZZpedgbiJfO"
      },
      "execution_count": 12,
      "outputs": []
    },
    {
      "cell_type": "markdown",
      "source": [
        "Like most PyTorch modules, the ExactGP has a .train() and .eval() mode.\n",
        "* .train() mode is for optimizing model hyperameters.\n",
        "* .eval() mode is for computing predictions through the model posterior."
      ],
      "metadata": {
        "id": "QZ9SRK3Qj3KP"
      }
    },
    {
      "cell_type": "markdown",
      "source": [
        "### Training the model"
      ],
      "metadata": {
        "id": "whOzN1WNl8qu"
      }
    },
    {
      "cell_type": "code",
      "source": [
        "# # train mode - find optimal model hyperparameters\n",
        "# model.train()\n",
        "# likelihood.train()"
      ],
      "metadata": {
        "id": "Ed9D6cdsjmCH"
      },
      "execution_count": 13,
      "outputs": []
    },
    {
      "cell_type": "code",
      "source": [
        "# # use the adam optimizer\n",
        "# optimizer = torch.optim.Adam(model.parameters(), lr=0.1)  # Includes GaussianLikelihood parameters\n",
        "\n",
        "# # iteration\n",
        "# training_iter = 20\n",
        "\n",
        "# # \"Loss\" for GPs - the marginal log likelihood\n",
        "# mll = gpytorch.mlls.ExactMarginalLogLikelihood(likelihood, model)\n",
        "\n",
        "# for i in range(training_iter):\n",
        "#     # Zero gradients from previous iteration\n",
        "#     optimizer.zero_grad()\n",
        "#     # Output from model\n",
        "#     output = model(X_train)\n",
        "#     # Calc loss and backprop gradients\n",
        "#     loss = -mll(output, y_train)\n",
        "#     loss.backward()\n",
        "\n",
        "#     if loss.item() > 0:\n",
        "#       print('Iter %d/%d - Loss: %.3f   lengthscale: %.3f   noise: %.3f' % (\n",
        "#           i + 1, training_iter, loss.item(),\n",
        "#           model.covar_module.base_kernel.lengthscale.item(),\n",
        "#           model.likelihood.noise.item()\n",
        "#       ))\n",
        "#       optimizer.step()\n",
        "#     else:\n",
        "#       break"
      ],
      "metadata": {
        "id": "dm-yk7fCkET1"
      },
      "execution_count": 14,
      "outputs": []
    },
    {
      "cell_type": "code",
      "source": [
        "# torch.save(model.state_dict(), \"./trained_gp\")"
      ],
      "metadata": {
        "id": "wbE3oMo0rm89"
      },
      "execution_count": 15,
      "outputs": []
    },
    {
      "cell_type": "code",
      "source": [
        "model = GPModel(X_train, y_train, likelihood)\n",
        "model.load_state_dict(torch.load(\"./trained_gp\"))"
      ],
      "metadata": {
        "colab": {
          "base_uri": "https://localhost:8080/"
        },
        "id": "EG79TuRIr58-",
        "outputId": "5a066fde-98fb-4f84-e57a-03526abcd72f"
      },
      "execution_count": 16,
      "outputs": [
        {
          "output_type": "execute_result",
          "data": {
            "text/plain": [
              "<All keys matched successfully>"
            ]
          },
          "metadata": {},
          "execution_count": 16
        }
      ]
    },
    {
      "cell_type": "markdown",
      "source": [
        "### Make predictions with the model"
      ],
      "metadata": {
        "id": "FNe-w1kQmrWA"
      }
    },
    {
      "cell_type": "code",
      "source": [
        "# Get into evaluation (predictive posterior) mode\n",
        "model.eval()\n",
        "likelihood.eval()"
      ],
      "metadata": {
        "colab": {
          "base_uri": "https://localhost:8080/"
        },
        "id": "IHJTkE-GoCRG",
        "outputId": "1602f9ad-47c7-4408-8052-dc88152d5c2b"
      },
      "execution_count": 17,
      "outputs": [
        {
          "output_type": "execute_result",
          "data": {
            "text/plain": [
              "GaussianLikelihood(\n",
              "  (noise_covar): HomoskedasticNoise(\n",
              "    (raw_noise_constraint): GreaterThan(1.000E-04)\n",
              "  )\n",
              ")"
            ]
          },
          "metadata": {},
          "execution_count": 17
        }
      ]
    },
    {
      "cell_type": "code",
      "source": [
        "X_test = torch.linspace(min(d_plot), max(d_plot), 50)"
      ],
      "metadata": {
        "id": "9Ot1__Cfou9A"
      },
      "execution_count": 18,
      "outputs": []
    },
    {
      "cell_type": "code",
      "source": [
        "f_preds = model(X_test)\n",
        "y_preds = likelihood(model(X_test))\n",
        "\n",
        "f_mean = f_preds.mean\n",
        "f_var = f_preds.variance\n",
        "f_covar = f_preds.covariance_matrix\n",
        "f_samples = f_preds.sample(torch.Size([1000]))"
      ],
      "metadata": {
        "id": "DhnrT63_lE1h",
        "colab": {
          "base_uri": "https://localhost:8080/"
        },
        "outputId": "445f51ab-44b9-4cc0-990d-34da7767e805"
      },
      "execution_count": 19,
      "outputs": [
        {
          "output_type": "stream",
          "name": "stderr",
          "text": [
            "/usr/local/lib/python3.10/dist-packages/linear_operator/utils/cholesky.py:40: NumericalWarning: A not p.d., added jitter of 1.0e-06 to the diagonal\n",
            "  warnings.warn(\n",
            "/usr/local/lib/python3.10/dist-packages/linear_operator/utils/cholesky.py:40: NumericalWarning: A not p.d., added jitter of 1.0e-05 to the diagonal\n",
            "  warnings.warn(\n",
            "/usr/local/lib/python3.10/dist-packages/linear_operator/utils/cholesky.py:40: NumericalWarning: A not p.d., added jitter of 1.0e-04 to the diagonal\n",
            "  warnings.warn(\n",
            "/usr/local/lib/python3.10/dist-packages/linear_operator/operators/_linear_operator.py:2151: NumericalWarning: Runtime Error when computing Cholesky decomposition: Matrix not positive definite after repeatedly adding jitter up to 1.0e-04.. Using symeig method.\n",
            "  warnings.warn(\n"
          ]
        }
      ]
    },
    {
      "cell_type": "markdown",
      "source": [
        "### Plot the model fit"
      ],
      "metadata": {
        "id": "3i9fN0JLskD4"
      }
    },
    {
      "cell_type": "code",
      "source": [
        "with torch.no_grad(), gpytorch.settings.fast_pred_var():\n",
        "    observed_pred = likelihood(model(X_test))"
      ],
      "metadata": {
        "id": "ffjqC5lQt2VV"
      },
      "execution_count": 26,
      "outputs": []
    },
    {
      "cell_type": "code",
      "source": [
        "with torch.no_grad():\n",
        "    # Initialize plot\n",
        "    f, ax = plt.subplots(1, 1, figsize=(10, 5))\n",
        "\n",
        "    # Get upper and lower confidence bounds\n",
        "    lower, upper = observed_pred.confidence_region()\n",
        "    # Plot training data as blue dots\n",
        "    ax.plot(d_plot, cov_plot, '.b', alpha=0.2)\n",
        "    # Plot predictive means as blue line\n",
        "    ax.plot(X_test.numpy(), observed_pred.mean.numpy(), 'r')\n",
        "    # Shade between the lower and upper confidence bounds\n",
        "    ax.fill_between(X_test.numpy(), lower.numpy(), upper.numpy(), alpha=0.1)\n",
        "\n",
        "    ax.legend(['Original data', 'Mean', 'Confidence'])\n",
        "    ax.set_ylim(-0.2, 1.2)\n",
        "    ax.set_xlabel(\"Distance ||Xi - Xj||\")\n",
        "    ax.set_ylabel(\"Calculated Covariance\")\n",
        "    ax.set_title(\"GP Regression\")"
      ],
      "metadata": {
        "id": "2RrKZSARkUqa",
        "colab": {
          "base_uri": "https://localhost:8080/",
          "height": 488
        },
        "outputId": "0d5aae8d-84da-49aa-89e9-c6f9103fd709"
      },
      "execution_count": 46,
      "outputs": [
        {
          "output_type": "display_data",
          "data": {
            "text/plain": [
              "<Figure size 1000x500 with 1 Axes>"
            ],
            "image/png": "[encoded data removed]"
          },
          "metadata": {}
        }
      ]
    }
  ],
  "metadata": {
    "colab": {
      "provenance": [],
      "machine_shape": "hm"
    },
    "kernelspec": {
      "display_name": "Python 3",
      "name": "python3"
    },
    "language_info": {
      "codemirror_mode": {
        "name": "ipython",
        "version": 3
      },
      "file_extension": ".py",
      "mimetype": "text/x-python",
      "name": "python",
      "nbconvert_exporter": "python",
      "pygments_lexer": "ipython3",
      "version": "3.10.9"
    }
  },
  "nbformat": 4,
  "nbformat_minor": 0
}