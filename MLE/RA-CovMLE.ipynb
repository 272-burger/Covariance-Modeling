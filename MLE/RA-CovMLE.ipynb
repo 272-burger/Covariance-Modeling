{
 "cells": [
  {
   "cell_type": "code",
   "execution_count": 77,
   "metadata": {},
   "outputs": [],
   "source": [
    "import numpy as np\n",
    "from scipy.optimize import minimize\n",
    "\n",
    "n = 1000\n",
    "paramTrue = [1,.1]\n"
   ]
  },
  {
   "cell_type": "code",
   "execution_count": 78,
   "metadata": {},
   "outputs": [],
   "source": [
    "def Sigma(param,n):\n",
    "    return np.eye(n)+(np.ones([n,n])-np.eye(n))*param[1]\n",
    "\n",
    "def sqrt_psd_matrix(matrix):\n",
    "    cholesky = np.linalg.cholesky(matrix)\n",
    "    sqrt_matrix = np.dot(cholesky, cholesky.T)\n",
    "    return sqrt_matrix"
   ]
  },
  {
   "cell_type": "code",
   "execution_count": 79,
   "metadata": {},
   "outputs": [],
   "source": [
    "SigmaHalf = np.linalg.cholesky(Sigma(paramTrue,n))\n",
    "# SigmaHalf @ SigmaHalf.T\n",
    "\n",
    "U = np.random.normal(0, 1, n).reshape(n, 1)\n",
    "Y = SigmaHalf @ U"
   ]
  },
  {
   "cell_type": "code",
   "execution_count": 80,
   "metadata": {},
   "outputs": [],
   "source": [
    "def logLikelihood(param,Y):\n",
    "    \n",
    "    n = len(Y)\n",
    "    sig = Sigma(param,n)\n",
    "    inv_Sigma = np.linalg.inv(sig)\n",
    "    log_det_Sigma = np.log(np.linalg.det(sig))\n",
    "        \n",
    "    return 0.5 * Y.T @ inv_Sigma @ Y + 0.5 * log_det_Sigma\n"
   ]
  },
  {
   "cell_type": "code",
   "execution_count": 81,
   "metadata": {},
   "outputs": [
    {
     "name": "stderr",
     "output_type": "stream",
     "text": [
      "/var/folders/q0/pmjpggzn2yqbzlw4r8fbvcsm0000gn/T/ipykernel_14157/1446838054.py:6: RuntimeWarning: invalid value encountered in log\n",
      "  log_det_Sigma = np.log(np.linalg.det(sig))\n",
      "/var/folders/q0/pmjpggzn2yqbzlw4r8fbvcsm0000gn/T/ipykernel_14157/1446838054.py:6: RuntimeWarning: invalid value encountered in log\n",
      "  log_det_Sigma = np.log(np.linalg.det(sig))\n",
      "/Users/yeonsoo/Desktop/research/RA-May2023/SARvenv/lib/python3.11/site-packages/numpy/linalg/linalg.py:2139: RuntimeWarning: overflow encountered in det\n",
      "  r = _umath_linalg.det(a, signature=signature)\n",
      "/Users/yeonsoo/Desktop/research/RA-May2023/SARvenv/lib/python3.11/site-packages/numpy/linalg/linalg.py:2139: RuntimeWarning: overflow encountered in det\n",
      "  r = _umath_linalg.det(a, signature=signature)\n",
      "/var/folders/q0/pmjpggzn2yqbzlw4r8fbvcsm0000gn/T/ipykernel_14157/1446838054.py:6: RuntimeWarning: invalid value encountered in log\n",
      "  log_det_Sigma = np.log(np.linalg.det(sig))\n"
     ]
    }
   ],
   "source": [
    "param0 = paramTrue\n",
    "\n",
    "result = minimize(logLikelihood, param0, args=(Y,))\n",
    "estimated_params = result.x"
   ]
  },
  {
   "cell_type": "code",
   "execution_count": 82,
   "metadata": {},
   "outputs": [
    {
     "data": {
      "text/plain": [
       "array([ 1.00000e+00, -1.03414e+03])"
      ]
     },
     "execution_count": 82,
     "metadata": {},
     "output_type": "execute_result"
    }
   ],
   "source": [
    "estimated_params"
   ]
  },
  {
   "cell_type": "code",
   "execution_count": null,
   "metadata": {},
   "outputs": [],
   "source": []
  }
 ],
 "metadata": {
  "kernelspec": {
   "display_name": "SARvenv",
   "language": "python",
   "name": "python3"
  },
  "language_info": {
   "codemirror_mode": {
    "name": "ipython",
    "version": 3
   },
   "file_extension": ".py",
   "mimetype": "text/x-python",
   "name": "python",
   "nbconvert_exporter": "python",
   "pygments_lexer": "ipython3",
   "version": "3.11.3"
  },
  "orig_nbformat": 4
 },
 "nbformat": 4,
 "nbformat_minor": 2
}
