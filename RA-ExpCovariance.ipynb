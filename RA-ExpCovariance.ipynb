{
 "cells": [
  {
   "cell_type": "code",
   "execution_count": 121,
   "metadata": {},
   "outputs": [],
   "source": [
    "import numpy as np\n",
    "import pandas as pd\n",
    "import matplotlib.pyplot as plt\n",
    "from itertools import combinations_with_replacement, combinations\n",
    "import libpysal.weights as lpw\n",
    "\n",
    "from scipy.optimize import minimize"
   ]
  },
  {
   "cell_type": "code",
   "execution_count": 89,
   "metadata": {},
   "outputs": [],
   "source": [
    "import SARfunctions as sf"
   ]
  },
  {
   "attachments": {},
   "cell_type": "markdown",
   "metadata": {},
   "source": [
    "# Exponential Covariance Function"
   ]
  },
  {
   "attachments": {},
   "cell_type": "markdown",
   "metadata": {},
   "source": [
    "## 1. Calculate Covariance using exponential function\n",
    "\n",
    "$$ Cov[Y_i, Y_j|X] = \\theta_1 exp(-\\theta_2 ||X_i - X_j||) =exp(-\\frac{1}{2}|X_i - X_j|^2) $$ "
   ]
  },
  {
   "cell_type": "code",
   "execution_count": 90,
   "metadata": {},
   "outputs": [],
   "source": [
    "# set seed\n",
    "seed_value = 42\n",
    "np.random.seed(seed_value)"
   ]
  },
  {
   "cell_type": "code",
   "execution_count": 91,
   "metadata": {},
   "outputs": [],
   "source": [
    "# make coordinates\n",
    "N = 20\n",
    "coords = sf.make_coords(N, 0, 10, 0, 10)"
   ]
  },
  {
   "cell_type": "code",
   "execution_count": 92,
   "metadata": {},
   "outputs": [],
   "source": [
    "# calculate distances between coordinates\n",
    "distances = sf.distances(coords)     \n",
    "distances = sf.pairs_df(distances)"
   ]
  },
  {
   "cell_type": "code",
   "execution_count": 93,
   "metadata": {},
   "outputs": [],
   "source": [
    "def exp_cov(params, distance): \n",
    "    theta1, theta2 = params\n",
    "    return np.exp(-1/2*(distance**2))\n",
    "    "
   ]
  },
  {
   "cell_type": "code",
   "execution_count": 94,
   "metadata": {},
   "outputs": [
    {
     "data": {
      "text/html": [
       "<div>\n",
       "<style scoped>\n",
       "    .dataframe tbody tr th:only-of-type {\n",
       "        vertical-align: middle;\n",
       "    }\n",
       "\n",
       "    .dataframe tbody tr th {\n",
       "        vertical-align: top;\n",
       "    }\n",
       "\n",
       "    .dataframe thead th {\n",
       "        text-align: right;\n",
       "    }\n",
       "</style>\n",
       "<table border=\"1\" class=\"dataframe\">\n",
       "  <thead>\n",
       "    <tr style=\"text-align: right;\">\n",
       "      <th></th>\n",
       "      <th>y1</th>\n",
       "      <th>y2</th>\n",
       "      <th>y3</th>\n",
       "      <th>y4</th>\n",
       "      <th>y5</th>\n",
       "      <th>y6</th>\n",
       "      <th>y7</th>\n",
       "      <th>y8</th>\n",
       "      <th>y9</th>\n",
       "      <th>y10</th>\n",
       "      <th>y11</th>\n",
       "      <th>y12</th>\n",
       "      <th>y13</th>\n",
       "      <th>y14</th>\n",
       "      <th>y15</th>\n",
       "      <th>y16</th>\n",
       "      <th>y17</th>\n",
       "      <th>y18</th>\n",
       "      <th>y19</th>\n",
       "      <th>y20</th>\n",
       "    </tr>\n",
       "  </thead>\n",
       "  <tbody>\n",
       "    <tr>\n",
       "      <th>y1</th>\n",
       "      <td>1.000000e+00</td>\n",
       "      <td>8.834095e-13</td>\n",
       "      <td>1.013688e-05</td>\n",
       "      <td>0.003987</td>\n",
       "      <td>2.729648e-02</td>\n",
       "      <td>2.044221e-02</td>\n",
       "      <td>1.368470e-06</td>\n",
       "      <td>3.503433e-06</td>\n",
       "      <td>7.534321e-02</td>\n",
       "      <td>4.391442e-10</td>\n",
       "      <td>1.901415e-03</td>\n",
       "      <td>1.184370e-12</td>\n",
       "      <td>9.004297e-12</td>\n",
       "      <td>9.164450e-04</td>\n",
       "      <td>2.990378e-04</td>\n",
       "      <td>2.332739e-02</td>\n",
       "      <td>6.964820e-03</td>\n",
       "      <td>5.875287e-07</td>\n",
       "      <td>6.526526e-01</td>\n",
       "      <td>1.618497e-01</td>\n",
       "    </tr>\n",
       "    <tr>\n",
       "      <th>y2</th>\n",
       "      <td>8.834095e-13</td>\n",
       "      <td>1.000000e+00</td>\n",
       "      <td>2.852304e-02</td>\n",
       "      <td>0.000155</td>\n",
       "      <td>1.288243e-16</td>\n",
       "      <td>1.707809e-23</td>\n",
       "      <td>4.161904e-18</td>\n",
       "      <td>6.243122e-04</td>\n",
       "      <td>7.789986e-08</td>\n",
       "      <td>3.416326e-02</td>\n",
       "      <td>2.861604e-24</td>\n",
       "      <td>9.355999e-01</td>\n",
       "      <td>3.766300e-01</td>\n",
       "      <td>8.620618e-27</td>\n",
       "      <td>2.198176e-28</td>\n",
       "      <td>3.157079e-23</td>\n",
       "      <td>2.151823e-10</td>\n",
       "      <td>1.052199e-04</td>\n",
       "      <td>5.157694e-13</td>\n",
       "      <td>3.916531e-12</td>\n",
       "    </tr>\n",
       "    <tr>\n",
       "      <th>y3</th>\n",
       "      <td>1.013688e-05</td>\n",
       "      <td>2.852304e-02</td>\n",
       "      <td>1.000000e+00</td>\n",
       "      <td>0.312133</td>\n",
       "      <td>1.631872e-08</td>\n",
       "      <td>3.289862e-13</td>\n",
       "      <td>8.963281e-11</td>\n",
       "      <td>3.451239e-02</td>\n",
       "      <td>4.679491e-03</td>\n",
       "      <td>4.750623e-02</td>\n",
       "      <td>7.079171e-14</td>\n",
       "      <td>2.816214e-02</td>\n",
       "      <td>4.581884e-02</td>\n",
       "      <td>5.893644e-16</td>\n",
       "      <td>3.782513e-17</td>\n",
       "      <td>4.759990e-13</td>\n",
       "      <td>1.055475e-04</td>\n",
       "      <td>1.762657e-02</td>\n",
       "      <td>5.090510e-06</td>\n",
       "      <td>2.021680e-05</td>\n",
       "    </tr>\n",
       "    <tr>\n",
       "      <th>y4</th>\n",
       "      <td>3.986886e-03</td>\n",
       "      <td>1.552274e-04</td>\n",
       "      <td>3.121327e-01</td>\n",
       "      <td>1.000000</td>\n",
       "      <td>3.721201e-05</td>\n",
       "      <td>8.631630e-09</td>\n",
       "      <td>1.125008e-07</td>\n",
       "      <td>9.357284e-03</td>\n",
       "      <td>7.766944e-02</td>\n",
       "      <td>3.293718e-03</td>\n",
       "      <td>3.023233e-09</td>\n",
       "      <td>1.493826e-04</td>\n",
       "      <td>6.946205e-04</td>\n",
       "      <td>2.458645e-11</td>\n",
       "      <td>2.683908e-12</td>\n",
       "      <td>1.029546e-08</td>\n",
       "      <td>1.083810e-02</td>\n",
       "      <td>2.059341e-02</td>\n",
       "      <td>1.593578e-03</td>\n",
       "      <td>6.752158e-03</td>\n",
       "    </tr>\n",
       "    <tr>\n",
       "      <th>y5</th>\n",
       "      <td>2.729648e-02</td>\n",
       "      <td>1.288243e-16</td>\n",
       "      <td>1.631872e-08</td>\n",
       "      <td>0.000037</td>\n",
       "      <td>1.000000e+00</td>\n",
       "      <td>4.446948e-03</td>\n",
       "      <td>2.313256e-02</td>\n",
       "      <td>9.446854e-12</td>\n",
       "      <td>1.969725e-05</td>\n",
       "      <td>5.478596e-11</td>\n",
       "      <td>1.269005e-01</td>\n",
       "      <td>7.001885e-17</td>\n",
       "      <td>5.550848e-14</td>\n",
       "      <td>4.542840e-06</td>\n",
       "      <td>2.224513e-06</td>\n",
       "      <td>1.941629e-03</td>\n",
       "      <td>1.058787e-01</td>\n",
       "      <td>1.812453e-06</td>\n",
       "      <td>1.645539e-03</td>\n",
       "      <td>3.958332e-01</td>\n",
       "    </tr>\n",
       "  </tbody>\n",
       "</table>\n",
       "</div>"
      ],
      "text/plain": [
       "              y1            y2            y3        y4            y5   \n",
       "y1  1.000000e+00  8.834095e-13  1.013688e-05  0.003987  2.729648e-02  \\\n",
       "y2  8.834095e-13  1.000000e+00  2.852304e-02  0.000155  1.288243e-16   \n",
       "y3  1.013688e-05  2.852304e-02  1.000000e+00  0.312133  1.631872e-08   \n",
       "y4  3.986886e-03  1.552274e-04  3.121327e-01  1.000000  3.721201e-05   \n",
       "y5  2.729648e-02  1.288243e-16  1.631872e-08  0.000037  1.000000e+00   \n",
       "\n",
       "              y6            y7            y8            y9           y10   \n",
       "y1  2.044221e-02  1.368470e-06  3.503433e-06  7.534321e-02  4.391442e-10  \\\n",
       "y2  1.707809e-23  4.161904e-18  6.243122e-04  7.789986e-08  3.416326e-02   \n",
       "y3  3.289862e-13  8.963281e-11  3.451239e-02  4.679491e-03  4.750623e-02   \n",
       "y4  8.631630e-09  1.125008e-07  9.357284e-03  7.766944e-02  3.293718e-03   \n",
       "y5  4.446948e-03  2.313256e-02  9.446854e-12  1.969725e-05  5.478596e-11   \n",
       "\n",
       "             y11           y12           y13           y14           y15   \n",
       "y1  1.901415e-03  1.184370e-12  9.004297e-12  9.164450e-04  2.990378e-04  \\\n",
       "y2  2.861604e-24  9.355999e-01  3.766300e-01  8.620618e-27  2.198176e-28   \n",
       "y3  7.079171e-14  2.816214e-02  4.581884e-02  5.893644e-16  3.782513e-17   \n",
       "y4  3.023233e-09  1.493826e-04  6.946205e-04  2.458645e-11  2.683908e-12   \n",
       "y5  1.269005e-01  7.001885e-17  5.550848e-14  4.542840e-06  2.224513e-06   \n",
       "\n",
       "             y16           y17           y18           y19           y20  \n",
       "y1  2.332739e-02  6.964820e-03  5.875287e-07  6.526526e-01  1.618497e-01  \n",
       "y2  3.157079e-23  2.151823e-10  1.052199e-04  5.157694e-13  3.916531e-12  \n",
       "y3  4.759990e-13  1.055475e-04  1.762657e-02  5.090510e-06  2.021680e-05  \n",
       "y4  1.029546e-08  1.083810e-02  2.059341e-02  1.593578e-03  6.752158e-03  \n",
       "y5  1.941629e-03  1.058787e-01  1.812453e-06  1.645539e-03  3.958332e-01  "
      ]
     },
     "execution_count": 94,
     "metadata": {},
     "output_type": "execute_result"
    }
   ],
   "source": [
    "# calculate covariance using exponential function\n",
    "true_params = [1, -1/2]\n",
    "cov_model = exp_cov(true_params, distances)\n",
    "cov_model.head()"
   ]
  },
  {
   "cell_type": "code",
   "execution_count": 95,
   "metadata": {},
   "outputs": [
    {
     "data": {
      "text/html": [
       "<div>\n",
       "<style scoped>\n",
       "    .dataframe tbody tr th:only-of-type {\n",
       "        vertical-align: middle;\n",
       "    }\n",
       "\n",
       "    .dataframe tbody tr th {\n",
       "        vertical-align: top;\n",
       "    }\n",
       "\n",
       "    .dataframe thead th {\n",
       "        text-align: right;\n",
       "    }\n",
       "</style>\n",
       "<table border=\"1\" class=\"dataframe\">\n",
       "  <thead>\n",
       "    <tr style=\"text-align: right;\">\n",
       "      <th></th>\n",
       "      <th>Calculated Covariance</th>\n",
       "      <th>Distances</th>\n",
       "    </tr>\n",
       "  </thead>\n",
       "  <tbody>\n",
       "    <tr>\n",
       "      <th>(y1, y2)</th>\n",
       "      <td>8.834095e-13</td>\n",
       "      <td>7.450502</td>\n",
       "    </tr>\n",
       "    <tr>\n",
       "      <th>(y1, y3)</th>\n",
       "      <td>1.013688e-05</td>\n",
       "      <td>4.795692</td>\n",
       "    </tr>\n",
       "    <tr>\n",
       "      <th>(y1, y4)</th>\n",
       "      <td>3.986886e-03</td>\n",
       "      <td>3.324077</td>\n",
       "    </tr>\n",
       "    <tr>\n",
       "      <th>(y1, y5)</th>\n",
       "      <td>2.729648e-02</td>\n",
       "      <td>2.683653</td>\n",
       "    </tr>\n",
       "    <tr>\n",
       "      <th>(y1, y6)</th>\n",
       "      <td>2.044221e-02</td>\n",
       "      <td>2.789320</td>\n",
       "    </tr>\n",
       "    <tr>\n",
       "      <th>...</th>\n",
       "      <td>...</td>\n",
       "      <td>...</td>\n",
       "    </tr>\n",
       "    <tr>\n",
       "      <th>(y17, y19)</th>\n",
       "      <td>3.285114e-04</td>\n",
       "      <td>4.005231</td>\n",
       "    </tr>\n",
       "    <tr>\n",
       "      <th>(y17, y20)</th>\n",
       "      <td>3.957374e-01</td>\n",
       "      <td>1.361620</td>\n",
       "    </tr>\n",
       "    <tr>\n",
       "      <th>(y18, y19)</th>\n",
       "      <td>2.197450e-08</td>\n",
       "      <td>5.938583</td>\n",
       "    </tr>\n",
       "    <tr>\n",
       "      <th>(y18, y20)</th>\n",
       "      <td>1.856977e-04</td>\n",
       "      <td>4.145212</td>\n",
       "    </tr>\n",
       "    <tr>\n",
       "      <th>(y19, y20)</th>\n",
       "      <td>1.889584e-02</td>\n",
       "      <td>2.817379</td>\n",
       "    </tr>\n",
       "  </tbody>\n",
       "</table>\n",
       "<p>190 rows × 2 columns</p>\n",
       "</div>"
      ],
      "text/plain": [
       "            Calculated Covariance  Distances\n",
       "(y1, y2)             8.834095e-13   7.450502\n",
       "(y1, y3)             1.013688e-05   4.795692\n",
       "(y1, y4)             3.986886e-03   3.324077\n",
       "(y1, y5)             2.729648e-02   2.683653\n",
       "(y1, y6)             2.044221e-02   2.789320\n",
       "...                           ...        ...\n",
       "(y17, y19)           3.285114e-04   4.005231\n",
       "(y17, y20)           3.957374e-01   1.361620\n",
       "(y18, y19)           2.197450e-08   5.938583\n",
       "(y18, y20)           1.856977e-04   4.145212\n",
       "(y19, y20)           1.889584e-02   2.817379\n",
       "\n",
       "[190 rows x 2 columns]"
      ]
     },
     "execution_count": 95,
     "metadata": {},
     "output_type": "execute_result"
    }
   ],
   "source": [
    "# make it into one dataframe of calculated covariance & distances\n",
    "column_pairs = list(combinations(cov_model.columns, 2))\n",
    "\n",
    "cov_pairs = [(cov_model[yi][yj]) for yi, yj in column_pairs]\n",
    "dis_pairs = [(distances[yi][yj]) for yi, yj in column_pairs]\n",
    "\n",
    "data = pd.DataFrame({'Calculated Covariance':cov_pairs, 'Distances': dis_pairs}, index=column_pairs)\n",
    "data"
   ]
  },
  {
   "cell_type": "code",
   "execution_count": 96,
   "metadata": {},
   "outputs": [
    {
     "data": {
      "image/png": "[encoded data removed]",
      "text/plain": [
       "<Figure size 640x480 with 1 Axes>"
      ]
     },
     "metadata": {},
     "output_type": "display_data"
    }
   ],
   "source": [
    "# plotting\n",
    "plt.scatter(data['Distances'], data['Calculated Covariance'], c='blue')\n",
    "# plt.yscale('log')\n",
    "plt.ylabel('Calculated Covariance')\n",
    "plt.xlabel('Distances between points')\n",
    "plt.show()"
   ]
  },
  {
   "attachments": {},
   "cell_type": "markdown",
   "metadata": {},
   "source": [
    "## 2. MLE for Exponential Covariance Function\n",
    "\n",
    "* Assume that the covariance of observed data $\\bold{Y} = \\{Y_1, Y_2, ..., Y_n\\}'$ follows the multivariate normal distribution $Cov(Y_i, Y_j) \\sim N(\\boldsymbol{\\mu}, \\boldsymbol{\\Sigma})$ \n",
    "* N: size of dimension, n: number of data points \n",
    "    * $\\boldsymbol{\\mu}$:  1 $\\times$ $N \\choose 2$ vector = (1, $N \\choose 2$) array\n",
    "    * $\\boldsymbol{\\Sigma}$: $N \\choose 2$ $\\times$ $N \\choose 2$ matrix = ($N \\choose 2$, $N \\choose 2$) array\n",
    "    * Random vector $Cov = \\{Cov(Y_1, Y_2), ...,Cov(X_{N-1},X_{N}) \\}'$:  n 1 $\\times$ $N \\choose 2$ vector = (n, 1, $N \\choose 2$) array\n"
   ]
  },
  {
   "attachments": {},
   "cell_type": "markdown",
   "metadata": {},
   "source": [
    "$$ logL(\\boldsymbol {\\mu}, \\boldsymbol {\\Sigma})= l(\\boldsymbol {\\mu}, \\boldsymbol {\\Sigma}) = \\sum^n_{i=1} -\\frac{1}{2}(\\boldsymbol{Cov}_{ij}-\\boldsymbol{\\mu})^T\\boldsymbol{\\Sigma}^{-1}(\\boldsymbol{Cov}_{ij}-\\boldsymbol{\\mu})-{\\frac {1}{2}}log|{\\boldsymbol {\\Sigma }}|$$\n"
   ]
  },
  {
   "attachments": {},
   "cell_type": "markdown",
   "metadata": {},
   "source": [
    "\n",
    "$$\\boldsymbol {Cov} = \\theta_1 exp(-\\theta_2 ||X_i - X_j||)$$\n",
    "\n",
    "* $E[\\boldsymbol{Cov}] = \\theta_1 exp(-\\theta_2 E[||X_i - X_j||])$\n",
    "* $Cov[\\boldsymbol{Cov}] = \\theta_1 exp(-\\theta_2 Cov[||X_i - X_j||])$"
   ]
  },
  {
   "cell_type": "code",
   "execution_count": 114,
   "metadata": {},
   "outputs": [],
   "source": [
    "N = len(cov_pairs) # dimension of Cov\n",
    "n = 100 # number of data points"
   ]
  },
  {
   "cell_type": "code",
   "execution_count": 116,
   "metadata": {},
   "outputs": [],
   "source": [
    "Cov = cov_pairs"
   ]
  },
  {
   "cell_type": "code",
   "execution_count": 118,
   "metadata": {},
   "outputs": [],
   "source": [
    "# initialize the parameters\n",
    "mean_params = np.zeros(N)\n",
    "cov_params = np.eye(N).flatten()\n",
    "\n",
    "initial_params = np.concatenate((mean_params, cov_params))"
   ]
  },
  {
   "cell_type": "code",
   "execution_count": 122,
   "metadata": {},
   "outputs": [],
   "source": [
    "def log_likelihood(params, data):\n",
    "    mu = params[:N]\n",
    "    Sigma = params[N:].reshape((N, N))\n",
    "    n = len(data)\n",
    "    \n",
    "    inv_Sigma = np.linalg.inv(Sigma)\n",
    "    log_det_Sigma = np.log(np.linalg.det(Sigma))\n",
    "    \n",
    "    logL = 0.0\n",
    "    for i in range(n):\n",
    "        x = data[i]\n",
    "        logL += -0.5 * (x - mu).T @ inv_Sigma @ (x - mu) - 0.5 * log_det_Sigma\n",
    "    return -logL"
   ]
  },
  {
   "cell_type": "code",
   "execution_count": 123,
   "metadata": {},
   "outputs": [
    {
     "name": "stderr",
     "output_type": "stream",
     "text": [
      "/var/folders/q0/pmjpggzn2yqbzlw4r8fbvcsm0000gn/T/ipykernel_48857/3686841562.py:7: RuntimeWarning: invalid value encountered in log\n",
      "  log_det_Sigma = np.log(np.linalg.det(Sigma))\n",
      "/Users/yeonsoo/Desktop/research/RA-May2023/SARvenv/lib/python3.11/site-packages/numpy/linalg/linalg.py:2139: RuntimeWarning: overflow encountered in det\n",
      "  r = _umath_linalg.det(a, signature=signature)\n"
     ]
    },
    {
     "ename": "KeyboardInterrupt",
     "evalue": "",
     "output_type": "error",
     "traceback": [
      "\u001b[0;31m---------------------------------------------------------------------------\u001b[0m",
      "\u001b[0;31mKeyboardInterrupt\u001b[0m                         Traceback (most recent call last)",
      "Cell \u001b[0;32mIn[123], line 2\u001b[0m\n\u001b[1;32m      1\u001b[0m \u001b[39m# minimize the negative log-likelihood to estimate the parameters\u001b[39;00m\n\u001b[0;32m----> 2\u001b[0m result \u001b[39m=\u001b[39m minimize(log_likelihood, initial_params, args\u001b[39m=\u001b[39;49m(Cov,))\n\u001b[1;32m      3\u001b[0m estimated_params \u001b[39m=\u001b[39m result\u001b[39m.\u001b[39mx\n",
      "File \u001b[0;32m~/Desktop/research/RA-May2023/SARvenv/lib/python3.11/site-packages/scipy/optimize/_minimize.py:691\u001b[0m, in \u001b[0;36mminimize\u001b[0;34m(fun, x0, args, method, jac, hess, hessp, bounds, constraints, tol, callback, options)\u001b[0m\n\u001b[1;32m    689\u001b[0m     res \u001b[39m=\u001b[39m _minimize_cg(fun, x0, args, jac, callback, \u001b[39m*\u001b[39m\u001b[39m*\u001b[39moptions)\n\u001b[1;32m    690\u001b[0m \u001b[39melif\u001b[39;00m meth \u001b[39m==\u001b[39m \u001b[39m'\u001b[39m\u001b[39mbfgs\u001b[39m\u001b[39m'\u001b[39m:\n\u001b[0;32m--> 691\u001b[0m     res \u001b[39m=\u001b[39m _minimize_bfgs(fun, x0, args, jac, callback, \u001b[39m*\u001b[39;49m\u001b[39m*\u001b[39;49moptions)\n\u001b[1;32m    692\u001b[0m \u001b[39melif\u001b[39;00m meth \u001b[39m==\u001b[39m \u001b[39m'\u001b[39m\u001b[39mnewton-cg\u001b[39m\u001b[39m'\u001b[39m:\n\u001b[1;32m    693\u001b[0m     res \u001b[39m=\u001b[39m _minimize_newtoncg(fun, x0, args, jac, hess, hessp, callback,\n\u001b[1;32m    694\u001b[0m                              \u001b[39m*\u001b[39m\u001b[39m*\u001b[39moptions)\n",
      "File \u001b[0;32m~/Desktop/research/RA-May2023/SARvenv/lib/python3.11/site-packages/scipy/optimize/_optimize.py:1388\u001b[0m, in \u001b[0;36m_minimize_bfgs\u001b[0;34m(fun, x0, args, jac, callback, gtol, norm, eps, maxiter, disp, return_all, finite_diff_rel_step, xrtol, **unknown_options)\u001b[0m\n\u001b[1;32m   1385\u001b[0m pk \u001b[39m=\u001b[39m \u001b[39m-\u001b[39mnp\u001b[39m.\u001b[39mdot(Hk, gfk)\n\u001b[1;32m   1386\u001b[0m \u001b[39mtry\u001b[39;00m:\n\u001b[1;32m   1387\u001b[0m     alpha_k, fc, gc, old_fval, old_old_fval, gfkp1 \u001b[39m=\u001b[39m \\\n\u001b[0;32m-> 1388\u001b[0m              _line_search_wolfe12(f, myfprime, xk, pk, gfk,\n\u001b[1;32m   1389\u001b[0m                                   old_fval, old_old_fval, amin\u001b[39m=\u001b[39;49m\u001b[39m1e-100\u001b[39;49m, amax\u001b[39m=\u001b[39;49m\u001b[39m1e100\u001b[39;49m)\n\u001b[1;32m   1390\u001b[0m \u001b[39mexcept\u001b[39;00m _LineSearchError:\n\u001b[1;32m   1391\u001b[0m     \u001b[39m# Line search failed to find a better solution.\u001b[39;00m\n\u001b[1;32m   1392\u001b[0m     warnflag \u001b[39m=\u001b[39m \u001b[39m2\u001b[39m\n",
      "File \u001b[0;32m~/Desktop/research/RA-May2023/SARvenv/lib/python3.11/site-packages/scipy/optimize/_optimize.py:1160\u001b[0m, in \u001b[0;36m_line_search_wolfe12\u001b[0;34m(f, fprime, xk, pk, gfk, old_fval, old_old_fval, **kwargs)\u001b[0m\n\u001b[1;32m   1146\u001b[0m \u001b[39m\u001b[39m\u001b[39m\"\"\"\u001b[39;00m\n\u001b[1;32m   1147\u001b[0m \u001b[39mSame as line_search_wolfe1, but fall back to line_search_wolfe2 if\u001b[39;00m\n\u001b[1;32m   1148\u001b[0m \u001b[39msuitable step length is not found, and raise an exception if a\u001b[39;00m\n\u001b[0;32m   (...)\u001b[0m\n\u001b[1;32m   1155\u001b[0m \n\u001b[1;32m   1156\u001b[0m \u001b[39m\"\"\"\u001b[39;00m\n\u001b[1;32m   1158\u001b[0m extra_condition \u001b[39m=\u001b[39m kwargs\u001b[39m.\u001b[39mpop(\u001b[39m'\u001b[39m\u001b[39mextra_condition\u001b[39m\u001b[39m'\u001b[39m, \u001b[39mNone\u001b[39;00m)\n\u001b[0;32m-> 1160\u001b[0m ret \u001b[39m=\u001b[39m line_search_wolfe1(f, fprime, xk, pk, gfk,\n\u001b[1;32m   1161\u001b[0m                          old_fval, old_old_fval,\n\u001b[1;32m   1162\u001b[0m                          \u001b[39m*\u001b[39;49m\u001b[39m*\u001b[39;49mkwargs)\n\u001b[1;32m   1164\u001b[0m \u001b[39mif\u001b[39;00m ret[\u001b[39m0\u001b[39m] \u001b[39mis\u001b[39;00m \u001b[39mnot\u001b[39;00m \u001b[39mNone\u001b[39;00m \u001b[39mand\u001b[39;00m extra_condition \u001b[39mis\u001b[39;00m \u001b[39mnot\u001b[39;00m \u001b[39mNone\u001b[39;00m:\n\u001b[1;32m   1165\u001b[0m     xp1 \u001b[39m=\u001b[39m xk \u001b[39m+\u001b[39m ret[\u001b[39m0\u001b[39m] \u001b[39m*\u001b[39m pk\n",
      "File \u001b[0;32m~/Desktop/research/RA-May2023/SARvenv/lib/python3.11/site-packages/scipy/optimize/_linesearch.py:84\u001b[0m, in \u001b[0;36mline_search_wolfe1\u001b[0;34m(f, fprime, xk, pk, gfk, old_fval, old_old_fval, args, c1, c2, amax, amin, xtol)\u001b[0m\n\u001b[1;32m     80\u001b[0m     \u001b[39mreturn\u001b[39;00m np\u001b[39m.\u001b[39mdot(gval[\u001b[39m0\u001b[39m], pk)\n\u001b[1;32m     82\u001b[0m derphi0 \u001b[39m=\u001b[39m np\u001b[39m.\u001b[39mdot(gfk, pk)\n\u001b[0;32m---> 84\u001b[0m stp, fval, old_fval \u001b[39m=\u001b[39m scalar_search_wolfe1(\n\u001b[1;32m     85\u001b[0m         phi, derphi, old_fval, old_old_fval, derphi0,\n\u001b[1;32m     86\u001b[0m         c1\u001b[39m=\u001b[39;49mc1, c2\u001b[39m=\u001b[39;49mc2, amax\u001b[39m=\u001b[39;49mamax, amin\u001b[39m=\u001b[39;49mamin, xtol\u001b[39m=\u001b[39;49mxtol)\n\u001b[1;32m     88\u001b[0m \u001b[39mreturn\u001b[39;00m stp, fc[\u001b[39m0\u001b[39m], gc[\u001b[39m0\u001b[39m], fval, old_fval, gval[\u001b[39m0\u001b[39m]\n",
      "File \u001b[0;32m~/Desktop/research/RA-May2023/SARvenv/lib/python3.11/site-packages/scipy/optimize/_linesearch.py:161\u001b[0m, in \u001b[0;36mscalar_search_wolfe1\u001b[0;34m(phi, derphi, phi0, old_phi0, derphi0, c1, c2, amax, amin, xtol)\u001b[0m\n\u001b[1;32m    159\u001b[0m     alpha1 \u001b[39m=\u001b[39m stp\n\u001b[1;32m    160\u001b[0m     phi1 \u001b[39m=\u001b[39m phi(stp)\n\u001b[0;32m--> 161\u001b[0m     derphi1 \u001b[39m=\u001b[39m derphi(stp)\n\u001b[1;32m    162\u001b[0m \u001b[39melse\u001b[39;00m:\n\u001b[1;32m    163\u001b[0m     \u001b[39mbreak\u001b[39;00m\n",
      "File \u001b[0;32m~/Desktop/research/RA-May2023/SARvenv/lib/python3.11/site-packages/scipy/optimize/_linesearch.py:78\u001b[0m, in \u001b[0;36mline_search_wolfe1.<locals>.derphi\u001b[0;34m(s)\u001b[0m\n\u001b[1;32m     77\u001b[0m \u001b[39mdef\u001b[39;00m \u001b[39mderphi\u001b[39m(s):\n\u001b[0;32m---> 78\u001b[0m     gval[\u001b[39m0\u001b[39m] \u001b[39m=\u001b[39m fprime(xk \u001b[39m+\u001b[39;49m s\u001b[39m*\u001b[39;49mpk, \u001b[39m*\u001b[39;49margs)\n\u001b[1;32m     79\u001b[0m     gc[\u001b[39m0\u001b[39m] \u001b[39m+\u001b[39m\u001b[39m=\u001b[39m \u001b[39m1\u001b[39m\n\u001b[1;32m     80\u001b[0m     \u001b[39mreturn\u001b[39;00m np\u001b[39m.\u001b[39mdot(gval[\u001b[39m0\u001b[39m], pk)\n",
      "File \u001b[0;32m~/Desktop/research/RA-May2023/SARvenv/lib/python3.11/site-packages/scipy/optimize/_differentiable_functions.py:273\u001b[0m, in \u001b[0;36mScalarFunction.grad\u001b[0;34m(self, x)\u001b[0m\n\u001b[1;32m    271\u001b[0m \u001b[39mif\u001b[39;00m \u001b[39mnot\u001b[39;00m np\u001b[39m.\u001b[39marray_equal(x, \u001b[39mself\u001b[39m\u001b[39m.\u001b[39mx):\n\u001b[1;32m    272\u001b[0m     \u001b[39mself\u001b[39m\u001b[39m.\u001b[39m_update_x_impl(x)\n\u001b[0;32m--> 273\u001b[0m \u001b[39mself\u001b[39;49m\u001b[39m.\u001b[39;49m_update_grad()\n\u001b[1;32m    274\u001b[0m \u001b[39mreturn\u001b[39;00m \u001b[39mself\u001b[39m\u001b[39m.\u001b[39mg\n",
      "File \u001b[0;32m~/Desktop/research/RA-May2023/SARvenv/lib/python3.11/site-packages/scipy/optimize/_differentiable_functions.py:256\u001b[0m, in \u001b[0;36mScalarFunction._update_grad\u001b[0;34m(self)\u001b[0m\n\u001b[1;32m    254\u001b[0m \u001b[39mdef\u001b[39;00m \u001b[39m_update_grad\u001b[39m(\u001b[39mself\u001b[39m):\n\u001b[1;32m    255\u001b[0m     \u001b[39mif\u001b[39;00m \u001b[39mnot\u001b[39;00m \u001b[39mself\u001b[39m\u001b[39m.\u001b[39mg_updated:\n\u001b[0;32m--> 256\u001b[0m         \u001b[39mself\u001b[39;49m\u001b[39m.\u001b[39;49m_update_grad_impl()\n\u001b[1;32m    257\u001b[0m         \u001b[39mself\u001b[39m\u001b[39m.\u001b[39mg_updated \u001b[39m=\u001b[39m \u001b[39mTrue\u001b[39;00m\n",
      "File \u001b[0;32m~/Desktop/research/RA-May2023/SARvenv/lib/python3.11/site-packages/scipy/optimize/_differentiable_functions.py:173\u001b[0m, in \u001b[0;36mScalarFunction.__init__.<locals>.update_grad\u001b[0;34m()\u001b[0m\n\u001b[1;32m    171\u001b[0m \u001b[39mself\u001b[39m\u001b[39m.\u001b[39m_update_fun()\n\u001b[1;32m    172\u001b[0m \u001b[39mself\u001b[39m\u001b[39m.\u001b[39mngev \u001b[39m+\u001b[39m\u001b[39m=\u001b[39m \u001b[39m1\u001b[39m\n\u001b[0;32m--> 173\u001b[0m \u001b[39mself\u001b[39m\u001b[39m.\u001b[39mg \u001b[39m=\u001b[39m approx_derivative(fun_wrapped, \u001b[39mself\u001b[39;49m\u001b[39m.\u001b[39;49mx, f0\u001b[39m=\u001b[39;49m\u001b[39mself\u001b[39;49m\u001b[39m.\u001b[39;49mf,\n\u001b[1;32m    174\u001b[0m                            \u001b[39m*\u001b[39;49m\u001b[39m*\u001b[39;49mfinite_diff_options)\n",
      "File \u001b[0;32m~/Desktop/research/RA-May2023/SARvenv/lib/python3.11/site-packages/scipy/optimize/_numdiff.py:505\u001b[0m, in \u001b[0;36mapprox_derivative\u001b[0;34m(fun, x0, method, rel_step, abs_step, f0, bounds, sparsity, as_linear_operator, args, kwargs)\u001b[0m\n\u001b[1;32m    502\u001b[0m     use_one_sided \u001b[39m=\u001b[39m \u001b[39mFalse\u001b[39;00m\n\u001b[1;32m    504\u001b[0m \u001b[39mif\u001b[39;00m sparsity \u001b[39mis\u001b[39;00m \u001b[39mNone\u001b[39;00m:\n\u001b[0;32m--> 505\u001b[0m     \u001b[39mreturn\u001b[39;00m _dense_difference(fun_wrapped, x0, f0, h,\n\u001b[1;32m    506\u001b[0m                              use_one_sided, method)\n\u001b[1;32m    507\u001b[0m \u001b[39melse\u001b[39;00m:\n\u001b[1;32m    508\u001b[0m     \u001b[39mif\u001b[39;00m \u001b[39mnot\u001b[39;00m issparse(sparsity) \u001b[39mand\u001b[39;00m \u001b[39mlen\u001b[39m(sparsity) \u001b[39m==\u001b[39m \u001b[39m2\u001b[39m:\n",
      "File \u001b[0;32m~/Desktop/research/RA-May2023/SARvenv/lib/python3.11/site-packages/scipy/optimize/_numdiff.py:576\u001b[0m, in \u001b[0;36m_dense_difference\u001b[0;34m(fun, x0, f0, h, use_one_sided, method)\u001b[0m\n\u001b[1;32m    574\u001b[0m     x \u001b[39m=\u001b[39m x0 \u001b[39m+\u001b[39m h_vecs[i]\n\u001b[1;32m    575\u001b[0m     dx \u001b[39m=\u001b[39m x[i] \u001b[39m-\u001b[39m x0[i]  \u001b[39m# Recompute dx as exactly representable number.\u001b[39;00m\n\u001b[0;32m--> 576\u001b[0m     df \u001b[39m=\u001b[39m fun(x) \u001b[39m-\u001b[39m f0\n\u001b[1;32m    577\u001b[0m \u001b[39melif\u001b[39;00m method \u001b[39m==\u001b[39m \u001b[39m'\u001b[39m\u001b[39m3-point\u001b[39m\u001b[39m'\u001b[39m \u001b[39mand\u001b[39;00m use_one_sided[i]:\n\u001b[1;32m    578\u001b[0m     x1 \u001b[39m=\u001b[39m x0 \u001b[39m+\u001b[39m h_vecs[i]\n",
      "File \u001b[0;32m~/Desktop/research/RA-May2023/SARvenv/lib/python3.11/site-packages/scipy/optimize/_numdiff.py:456\u001b[0m, in \u001b[0;36mapprox_derivative.<locals>.fun_wrapped\u001b[0;34m(x)\u001b[0m\n\u001b[1;32m    455\u001b[0m \u001b[39mdef\u001b[39;00m \u001b[39mfun_wrapped\u001b[39m(x):\n\u001b[0;32m--> 456\u001b[0m     f \u001b[39m=\u001b[39m np\u001b[39m.\u001b[39matleast_1d(fun(x, \u001b[39m*\u001b[39;49margs, \u001b[39m*\u001b[39;49m\u001b[39m*\u001b[39;49mkwargs))\n\u001b[1;32m    457\u001b[0m     \u001b[39mif\u001b[39;00m f\u001b[39m.\u001b[39mndim \u001b[39m>\u001b[39m \u001b[39m1\u001b[39m:\n\u001b[1;32m    458\u001b[0m         \u001b[39mraise\u001b[39;00m \u001b[39mRuntimeError\u001b[39;00m(\u001b[39m\"\u001b[39m\u001b[39m`fun` return value has \u001b[39m\u001b[39m\"\u001b[39m\n\u001b[1;32m    459\u001b[0m                            \u001b[39m\"\u001b[39m\u001b[39mmore than 1 dimension.\u001b[39m\u001b[39m\"\u001b[39m)\n",
      "File \u001b[0;32m~/Desktop/research/RA-May2023/SARvenv/lib/python3.11/site-packages/scipy/optimize/_differentiable_functions.py:137\u001b[0m, in \u001b[0;36mScalarFunction.__init__.<locals>.fun_wrapped\u001b[0;34m(x)\u001b[0m\n\u001b[1;32m    133\u001b[0m \u001b[39mself\u001b[39m\u001b[39m.\u001b[39mnfev \u001b[39m+\u001b[39m\u001b[39m=\u001b[39m \u001b[39m1\u001b[39m\n\u001b[1;32m    134\u001b[0m \u001b[39m# Send a copy because the user may overwrite it.\u001b[39;00m\n\u001b[1;32m    135\u001b[0m \u001b[39m# Overwriting results in undefined behaviour because\u001b[39;00m\n\u001b[1;32m    136\u001b[0m \u001b[39m# fun(self.x) will change self.x, with the two no longer linked.\u001b[39;00m\n\u001b[0;32m--> 137\u001b[0m fx \u001b[39m=\u001b[39m fun(np\u001b[39m.\u001b[39;49mcopy(x), \u001b[39m*\u001b[39;49margs)\n\u001b[1;32m    138\u001b[0m \u001b[39m# Make sure the function returns a true scalar\u001b[39;00m\n\u001b[1;32m    139\u001b[0m \u001b[39mif\u001b[39;00m \u001b[39mnot\u001b[39;00m np\u001b[39m.\u001b[39misscalar(fx):\n",
      "Cell \u001b[0;32mIn[122], line 12\u001b[0m, in \u001b[0;36mlog_likelihood\u001b[0;34m(params, data)\u001b[0m\n\u001b[1;32m     10\u001b[0m \u001b[39mfor\u001b[39;00m i \u001b[39min\u001b[39;00m \u001b[39mrange\u001b[39m(n):\n\u001b[1;32m     11\u001b[0m     x \u001b[39m=\u001b[39m data[i]\n\u001b[0;32m---> 12\u001b[0m     logL \u001b[39m+\u001b[39m\u001b[39m=\u001b[39m \u001b[39m-\u001b[39m\u001b[39m0.5\u001b[39m \u001b[39m*\u001b[39m (x \u001b[39m-\u001b[39m mu)\u001b[39m.\u001b[39mT \u001b[39m@\u001b[39m inv_Sigma \u001b[39m@\u001b[39m (x \u001b[39m-\u001b[39m mu) \u001b[39m-\u001b[39m \u001b[39m0.5\u001b[39m \u001b[39m*\u001b[39m log_det_Sigma\n\u001b[1;32m     13\u001b[0m \u001b[39mreturn\u001b[39;00m \u001b[39m-\u001b[39mlogL\n",
      "\u001b[0;31mKeyboardInterrupt\u001b[0m: "
     ]
    }
   ],
   "source": [
    "# minimize the negative log-likelihood to estimate the parameters\n",
    "result = minimize(log_likelihood, initial_params, args=(Cov,))\n",
    "estimated_params = result.x"
   ]
  },
  {
   "cell_type": "code",
   "execution_count": null,
   "metadata": {},
   "outputs": [],
   "source": []
  }
 ],
 "metadata": {
  "kernelspec": {
   "display_name": "SARvenv",
   "language": "python",
   "name": "python3"
  },
  "language_info": {
   "codemirror_mode": {
    "name": "ipython",
    "version": 3
   },
   "file_extension": ".py",
   "mimetype": "text/x-python",
   "name": "python",
   "nbconvert_exporter": "python",
   "pygments_lexer": "ipython3",
   "version": "3.11.3"
  },
  "orig_nbformat": 4
 },
 "nbformat": 4,
 "nbformat_minor": 2
}
